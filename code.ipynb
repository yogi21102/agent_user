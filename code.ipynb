import os
import nltk
from nltk.tokenize import word_tokenize, sent_tokenize
from nltk.corpus import stopwords
from nltk.stem import WordNetLemmatizer

nltk.download('punkt')
nltk.download('stopwords')
nltk.download('wordnet')




class Agent:
    def __init__(self, name, purpose):
        self.name = name
        self.purpose = purpose
        self.file_contents = []
        self.processed_contents = []
        self.stopwords = set(stopwords.words('english'))
        self.lemmatizer = WordNetLemmatizer()

    def upload_files(self):
        file_names = input("Enter the names of the files to upload (separated by commas): ").split(",")
        for file_name in file_names:
            if os.path.exists(file_name.strip()):
                with open(file_name.strip(), 'r') as file:
                    content = file.read()
                    self.file_contents.append(content)
            else:
                print(f"File '{file_name.strip()}' does not exist.")
                

  #assumed files are uploaded in same directory 


    def process_contents(self):
        for content in self.file_contents:
            # Tokenize the content into sentences
            sentences = sent_tokenize(content)
            
            # Tokenize each sentence into words, remove stopwords and lemmatize
            processed_sentences = []
            for sentence in sentences:
                words = word_tokenize(sentence)
                words = [self.lemmatizer.lemmatize(word.lower()) for word in words if word.lower() not in self.stopwords]
                processed_sentences.append(words)
            
            self.processed_contents.append(processed_sentences)

    def ask_question(self):
        question = input("Ask a question to the agent: ")
        return question

    def search_answer(self, question):
        # Perform content analysis and NLP techniques to extract information from self.processed_contents
        # Search for an answer within the extracted information
        # Return the answer or None if not found
        # Replace the following placeholder code with your implementation
        question_words = [self.lemmatizer.lemmatize(word.lower()) for word in word_tokenize(question) if word.lower() not in self.stopwords]
        
        for content in self.processed_contents:
            for sentence in content:
                if set(question_words).issubset(sentence):
                    return ' '.join(sentence)
        
        return None

    def generate_default_answer(self):
        # Generate a default answer using a predefined template or fallback mechanism
        # Replace the following placeholder code with your implementation
        return "I'm sorry, but I don't have an answer to that question."

    def communicate(self):
        print(f"{self.name} - {self.purpose}")
        while True:
            question = self.ask_question()
            answer = self.search_answer(question)
            if answer is None:
                answer = self.generate_default_answer()
            print(answer)
            choice = input("Do you want to ask another question? (Y/N): ")
            if choice.upper() != "Y":
                break

# Main program
name = input("Enter the name of the agent: ")
purpose = input("Enter the purpose of the agent: ")
agent = Agent(name, purpose)
agent.upload_files()
agent.process_contents()
agent.communicate()
